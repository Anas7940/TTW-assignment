{
 "cells": [
  {
   "cell_type": "code",
   "execution_count": 1,
   "metadata": {},
   "outputs": [],
   "source": [
    "import pandas as pd\n",
    "#https://www.kaggle.com/datasets/jpmiller/layoutlm/data\n",
    "df = pd.read_csv(\"medquad.csv\")"
   ]
  },
  {
   "cell_type": "code",
   "execution_count": 2,
   "metadata": {},
   "outputs": [
    {
     "name": "stdout",
     "output_type": "stream",
     "text": [
      "<class 'pandas.core.frame.DataFrame'>\n",
      "RangeIndex: 16412 entries, 0 to 16411\n",
      "Data columns (total 4 columns):\n",
      " #   Column      Non-Null Count  Dtype \n",
      "---  ------      --------------  ----- \n",
      " 0   question    16412 non-null  object\n",
      " 1   answer      16407 non-null  object\n",
      " 2   source      16412 non-null  object\n",
      " 3   focus_area  16398 non-null  object\n",
      "dtypes: object(4)\n",
      "memory usage: 513.0+ KB\n"
     ]
    }
   ],
   "source": [
    "df.info()"
   ]
  },
  {
   "cell_type": "code",
   "execution_count": 3,
   "metadata": {},
   "outputs": [
    {
     "data": {
      "text/html": [
       "<div>\n",
       "<style scoped>\n",
       "    .dataframe tbody tr th:only-of-type {\n",
       "        vertical-align: middle;\n",
       "    }\n",
       "\n",
       "    .dataframe tbody tr th {\n",
       "        vertical-align: top;\n",
       "    }\n",
       "\n",
       "    .dataframe thead th {\n",
       "        text-align: right;\n",
       "    }\n",
       "</style>\n",
       "<table border=\"1\" class=\"dataframe\">\n",
       "  <thead>\n",
       "    <tr style=\"text-align: right;\">\n",
       "      <th></th>\n",
       "      <th>question</th>\n",
       "      <th>answer</th>\n",
       "      <th>source</th>\n",
       "      <th>focus_area</th>\n",
       "    </tr>\n",
       "  </thead>\n",
       "  <tbody>\n",
       "    <tr>\n",
       "      <th>8549</th>\n",
       "      <td>What is the outlook for Electrocardiogram ?</td>\n",
       "      <td>An electrocardiogram (EKG) is painless and har...</td>\n",
       "      <td>NHLBI</td>\n",
       "      <td>Electrocardiogram</td>\n",
       "    </tr>\n",
       "    <tr>\n",
       "      <th>894</th>\n",
       "      <td>What is (are) Extragonadal Germ Cell Tumors ?</td>\n",
       "      <td>Key Points\\n                    - Extragonadal...</td>\n",
       "      <td>CancerGov</td>\n",
       "      <td>Extragonadal Germ Cell Tumors</td>\n",
       "    </tr>\n",
       "    <tr>\n",
       "      <th>4792</th>\n",
       "      <td>What are the symptoms of Usher syndrome, type ...</td>\n",
       "      <td>What are the signs and symptoms of Usher syndr...</td>\n",
       "      <td>GARD</td>\n",
       "      <td>Usher syndrome, type 1B</td>\n",
       "    </tr>\n",
       "    <tr>\n",
       "      <th>816</th>\n",
       "      <td>What are the stages of Adult Acute Myeloid Leu...</td>\n",
       "      <td>Key Points\\n                    - Once adult a...</td>\n",
       "      <td>CancerGov</td>\n",
       "      <td>Adult Acute Myeloid Leukemia</td>\n",
       "    </tr>\n",
       "    <tr>\n",
       "      <th>16097</th>\n",
       "      <td>What are the symptoms of What I need to know a...</td>\n",
       "      <td>Most people do not have any symptoms until the...</td>\n",
       "      <td>NIDDK</td>\n",
       "      <td>What I need to know about Hepatitis C</td>\n",
       "    </tr>\n",
       "    <tr>\n",
       "      <th>14659</th>\n",
       "      <td>What are the treatments for bradyopsia ?</td>\n",
       "      <td>These resources address the diagnosis or manag...</td>\n",
       "      <td>GHR</td>\n",
       "      <td>bradyopsia</td>\n",
       "    </tr>\n",
       "    <tr>\n",
       "      <th>8314</th>\n",
       "      <td>What are the treatments for Polycythemia Vera ?</td>\n",
       "      <td>Polycythemia vera (PV) doesn't have a cure. Ho...</td>\n",
       "      <td>NHLBI</td>\n",
       "      <td>Polycythemia Vera</td>\n",
       "    </tr>\n",
       "    <tr>\n",
       "      <th>9711</th>\n",
       "      <td>What are the treatments for Cerebellar Hypopla...</td>\n",
       "      <td>There is no standard course of treatment for c...</td>\n",
       "      <td>NINDS</td>\n",
       "      <td>Cerebellar Hypoplasia</td>\n",
       "    </tr>\n",
       "    <tr>\n",
       "      <th>3957</th>\n",
       "      <td>What are the symptoms of Kapur Toriello syndro...</td>\n",
       "      <td>What are the signs and symptoms of Kapur Torie...</td>\n",
       "      <td>GARD</td>\n",
       "      <td>Kapur Toriello syndrome</td>\n",
       "    </tr>\n",
       "    <tr>\n",
       "      <th>7038</th>\n",
       "      <td>What causes Dermatofibrosarcoma protuberans ?</td>\n",
       "      <td>What causes Dermatofibrosarcoma protuberans? T...</td>\n",
       "      <td>GARD</td>\n",
       "      <td>Dermatofibrosarcoma protuberans</td>\n",
       "    </tr>\n",
       "  </tbody>\n",
       "</table>\n",
       "</div>"
      ],
      "text/plain": [
       "                                                question  \\\n",
       "8549         What is the outlook for Electrocardiogram ?   \n",
       "894        What is (are) Extragonadal Germ Cell Tumors ?   \n",
       "4792   What are the symptoms of Usher syndrome, type ...   \n",
       "816    What are the stages of Adult Acute Myeloid Leu...   \n",
       "16097  What are the symptoms of What I need to know a...   \n",
       "14659           What are the treatments for bradyopsia ?   \n",
       "8314     What are the treatments for Polycythemia Vera ?   \n",
       "9711   What are the treatments for Cerebellar Hypopla...   \n",
       "3957   What are the symptoms of Kapur Toriello syndro...   \n",
       "7038       What causes Dermatofibrosarcoma protuberans ?   \n",
       "\n",
       "                                                  answer     source  \\\n",
       "8549   An electrocardiogram (EKG) is painless and har...      NHLBI   \n",
       "894    Key Points\\n                    - Extragonadal...  CancerGov   \n",
       "4792   What are the signs and symptoms of Usher syndr...       GARD   \n",
       "816    Key Points\\n                    - Once adult a...  CancerGov   \n",
       "16097  Most people do not have any symptoms until the...      NIDDK   \n",
       "14659  These resources address the diagnosis or manag...        GHR   \n",
       "8314   Polycythemia vera (PV) doesn't have a cure. Ho...      NHLBI   \n",
       "9711   There is no standard course of treatment for c...      NINDS   \n",
       "3957   What are the signs and symptoms of Kapur Torie...       GARD   \n",
       "7038   What causes Dermatofibrosarcoma protuberans? T...       GARD   \n",
       "\n",
       "                                  focus_area  \n",
       "8549                       Electrocardiogram  \n",
       "894            Extragonadal Germ Cell Tumors  \n",
       "4792                 Usher syndrome, type 1B  \n",
       "816             Adult Acute Myeloid Leukemia  \n",
       "16097  What I need to know about Hepatitis C  \n",
       "14659                             bradyopsia  \n",
       "8314                       Polycythemia Vera  \n",
       "9711                   Cerebellar Hypoplasia  \n",
       "3957                 Kapur Toriello syndrome  \n",
       "7038         Dermatofibrosarcoma protuberans  "
      ]
     },
     "execution_count": 3,
     "metadata": {},
     "output_type": "execute_result"
    }
   ],
   "source": [
    "df.sample(10)"
   ]
  },
  {
   "cell_type": "code",
   "execution_count": 6,
   "metadata": {},
   "outputs": [
    {
     "name": "stdout",
     "output_type": "stream",
     "text": [
      "Data preprocessing complete. File saved as 'medquad.jsonl'.\n"
     ]
    }
   ],
   "source": [
    "import json\n",
    "\n",
    "df.dropna(subset=[\"question\", \"answer\"], inplace=True)\n",
    "\n",
    "formatted_data = []\n",
    "\n",
    "system_message = \"The assistant is a knowledgeable healthcare expert capable of answering medical questions clearly and concisely.\"\n",
    "\n",
    "for _, row in df.iterrows():\n",
    "    conversation = {\n",
    "        \"messages\": [\n",
    "            {\"role\": \"system\", \"content\": system_message},\n",
    "            {\"role\": \"user\", \"content\": row[\"question\"]},\n",
    "            {\"role\": \"assistant\", \"content\": row[\"answer\"]}\n",
    "        ]\n",
    "    }\n",
    "    formatted_data.append(conversation)\n",
    "\n",
    "with open(\"medquad.jsonl\", \"w\") as f:\n",
    "    for entry in formatted_data:\n",
    "        f.write(json.dumps(entry) + \"\\n\")\n",
    "\n",
    "print(\"Data preprocessing complete. File saved as 'medquad.jsonl'.\")\n"
   ]
  },
  {
   "cell_type": "code",
   "execution_count": 7,
   "metadata": {},
   "outputs": [
    {
     "name": "stdout",
     "output_type": "stream",
     "text": [
      "{'messages': [{'role': 'system', 'content': 'The assistant is a knowledgeable healthcare expert capable of answering medical questions clearly and concisely.'}, {'role': 'user', 'content': 'What is (are) Glaucoma ?'}, {'role': 'assistant', 'content': \"Glaucoma is a group of diseases that can damage the eye's optic nerve and result in vision loss and blindness. While glaucoma can strike anyone, the risk is much greater for people over 60. How Glaucoma Develops  There are several different types of glaucoma. Most of these involve the drainage system within the eye. At the front of the eye there is a small space called the anterior chamber. A clear fluid flows through this chamber and bathes and nourishes the nearby tissues. (Watch the video to learn more about glaucoma. To enlarge the video, click the brackets in the lower right-hand corner. To reduce the video, press the Escape (Esc) button on your keyboard.) In glaucoma, for still unknown reasons, the fluid drains too slowly out of the eye. As the fluid builds up, the pressure inside the eye rises. Unless this pressure is controlled, it may cause damage to the optic nerve and other parts of the eye and result in loss of vision. Open-angle Glaucoma The most common type of glaucoma is called open-angle glaucoma. In the normal eye, the clear fluid leaves the anterior chamber at the open angle where the cornea and iris meet. When fluid reaches the angle, it flows through a spongy meshwork, like a drain, and leaves the eye. Sometimes, when the fluid reaches the angle, it passes too slowly through the meshwork drain, causing the pressure inside the eye to build. If the pressure damages the optic nerve, open-angle glaucoma -- and vision loss -- may result. There is no cure for glaucoma. Vision lost from the disease cannot be restored. However, there are treatments that may save remaining vision. That is why early diagnosis is important.  See this graphic for a quick overview of glaucoma,  including how many people it affects, whos at risk, what to do if you have it, and how to learn more.  See a glossary of glaucoma terms.\"}]}\n"
     ]
    }
   ],
   "source": [
    "with open(\"medquad.jsonl\", \"r\") as f:\n",
    "    data = [json.loads(line) for line in f]\n",
    "print(data[0]) \n"
   ]
  }
 ],
 "metadata": {
  "kernelspec": {
   "display_name": "Python 3",
   "language": "python",
   "name": "python3"
  },
  "language_info": {
   "codemirror_mode": {
    "name": "ipython",
    "version": 3
   },
   "file_extension": ".py",
   "mimetype": "text/x-python",
   "name": "python",
   "nbconvert_exporter": "python",
   "pygments_lexer": "ipython3",
   "version": "3.12.8"
  }
 },
 "nbformat": 4,
 "nbformat_minor": 2
}
